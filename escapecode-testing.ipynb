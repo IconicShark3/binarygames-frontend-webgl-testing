{
 "cells": [
  {
   "cell_type": "code",
   "execution_count": 33,
   "metadata": {},
   "outputs": [
    {
     "name": "stdout",
     "output_type": "stream",
     "text": [
      "00we\n",
      "vsxn\n",
      "i5py\n",
      "n477\n",
      "e9gp\n"
     ]
    },
    {
     "data": {
      "text/plain": [
       "undefined"
      ]
     },
     "execution_count": 33,
     "metadata": {},
     "output_type": "execute_result"
    }
   ],
   "source": [
    "\n",
    "// Initial array of characters (#s 0-9 and English alphabet)\n",
    "charList = [\"0\", \"1\", \"2\", \"3\", \"4\", \"5\", \"6\", \"7\", \"8\", \"9\", \"a\", \"b\", \"c\", \"d\", \"e\", \"f\", \"g\", \"h\", \"i\", \"j\", \"k\", \"l\", \"m\", \"n\", \"o\", \"p\", \"q\", \"r\", \"s\", \"t\", \"u\", \"v\", \"w\", \"x\", \"y\", \"z\"]\n",
    "\n",
    "// Function to generate a random # between min and max\n",
    "function getRndInteger(min, max) {\n",
    "    return Math.floor(Math.random() * (max - min) ) + min;\n",
    "}\n",
    "\n",
    "// function that generates the escape code (parameter \"len\" must be an integer)\n",
    "function generateEscapeCode(len) {\n",
    "\n",
    "    // Initialize the array that will hold the \"len\" (e.g. 4) characters of the escape code\n",
    "    codeArr = []\n",
    "\n",
    "    // Populates codeArr with randomly selected characters from charList\n",
    "    for (var i = 0; i < len; i++) {\n",
    "        // Randomly select an index to select character\n",
    "        let indx = getRndInteger(0, charList.length - 1);\n",
    "        // Append (push) the random character\n",
    "        codeArr.push(charList[indx]);\n",
    "    }\n",
    "\n",
    "    // Concatenates all elements of codeArr into one string\n",
    "    escapeCode = codeArr.join(\"\");\n",
    "\n",
    "    return escapeCode\n",
    "\n",
    "}\n",
    "\n",
    "// Testing by generating 5 escape codes (This is only testing... We will not need to use 5 of them)\n",
    "for (var i = 0; i < 5; i++) {\n",
    "    console.log(generateEscapeCode(4));\n",
    "}"
   ]
  },
  {
   "attachments": {},
   "cell_type": "markdown",
   "metadata": {},
   "source": []
  }
 ],
 "metadata": {
  "kernelspec": {
   "display_name": "JavaScript (Node.js)",
   "language": "javascript",
   "name": "javascript"
  },
  "language_info": {
   "file_extension": ".js",
   "mimetype": "application/javascript",
   "name": "javascript",
   "version": "6.11.2"
  },
  "orig_nbformat": 4
 },
 "nbformat": 4,
 "nbformat_minor": 2
}
